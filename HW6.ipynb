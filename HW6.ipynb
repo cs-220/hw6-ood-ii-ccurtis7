{
 "cells": [
  {
   "cell_type": "markdown",
   "id": "53775b3b",
   "metadata": {},
   "source": [
    "# Problem 1\n",
    "\n",
    "Modify the Dice Poker program to include the following features:\n",
    "\n",
    "1. Splash Screen. When the program first fires up, have it print a short introductory message about the program and buttons for \"Let's Play\" and \"Exit.\" The main interface shouldn't appear unless the user selects \"Let's Play.\"\n",
    "\n",
    "2. Add a high score feature. The program should keep track of the 10 best scores. When a user quits with a good enough score, he/she is invited to type in a name for the list. The list should be printed in the splash screen when the program first runs. The high-scores list will have to be stored in a file so that it persists between program invocations."
   ]
  },
  {
   "cell_type": "code",
   "execution_count": 1,
   "id": "528b63fc",
   "metadata": {},
   "outputs": [
    {
     "data": {
      "text/plain": [
       "'this'"
      ]
     },
     "execution_count": 1,
     "metadata": {},
     "output_type": "execute_result"
    }
   ],
   "source": [
    "name = 'this'\n",
    "name[0:11]"
   ]
  },
  {
   "cell_type": "code",
   "execution_count": 4,
   "id": "b867b92b",
   "metadata": {},
   "outputs": [],
   "source": [
    "test = [1]"
   ]
  },
  {
   "cell_type": "code",
   "execution_count": 5,
   "id": "470afe45",
   "metadata": {},
   "outputs": [
    {
     "data": {
      "text/plain": [
       "[1]"
      ]
     },
     "execution_count": 5,
     "metadata": {},
     "output_type": "execute_result"
    }
   ],
   "source": [
    "print()"
   ]
  },
  {
   "cell_type": "markdown",
   "id": "51618298",
   "metadata": {},
   "source": [
    "# Problem 2\n",
    "\n",
    "Find the rules to one of the following dice games and write an interactive program to play it:\n",
    "\n",
    "1. craps\n",
    "2. yacht\n",
    "3. greed\n",
    "4. skunk"
   ]
  },
  {
   "cell_type": "code",
   "execution_count": null,
   "id": "768c3b87",
   "metadata": {},
   "outputs": [],
   "source": []
  }
 ],
 "metadata": {
  "kernelspec": {
   "display_name": "Python 3",
   "language": "python",
   "name": "python3"
  },
  "language_info": {
   "codemirror_mode": {
    "name": "ipython",
    "version": 3
   },
   "file_extension": ".py",
   "mimetype": "text/x-python",
   "name": "python",
   "nbconvert_exporter": "python",
   "pygments_lexer": "ipython3",
   "version": "3.8.8"
  }
 },
 "nbformat": 4,
 "nbformat_minor": 5
}
